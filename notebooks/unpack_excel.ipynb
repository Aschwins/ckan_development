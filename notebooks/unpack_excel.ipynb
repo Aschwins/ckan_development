{
 "cells": [
  {
   "cell_type": "code",
   "execution_count": 13,
   "metadata": {},
   "outputs": [],
   "source": [
    "import pandas as pd\n",
    "from xlrd import open_workbook\n",
    "import csv\n",
    "import requests\n",
    "import logging\n",
    "\n",
    "logger = logging.getLogger(__name__)"
   ]
  },
  {
   "cell_type": "code",
   "execution_count": 1,
   "metadata": {},
   "outputs": [],
   "source": [
    "xlsx_filepath = 'data/excel1.xlsx'\n",
    "\n",
    "def excel_to_csv(excel_filepath):\n",
    "    wb = open_workbook(excel_filepath)\n",
    "    wb.nsheets\n",
    "\n",
    "    for i in range(wb.nsheets):\n",
    "        sheet = wb.sheet_by_index(i)\n",
    "        with open(\"lol/{0}_mycsv.csv\".format(sheet.name), \"w\") as file:\n",
    "            writer = csv.writer(file, delimiter = \",\")\n",
    "            print sheet\n",
    "            header = [cell.value for cell in sheet.row(0)]\n",
    "            writer.writerow(header)\n",
    "            for row_idx in range(1, sheet.nrows):\n",
    "                row = [cell.value for cell in sheet.row(row_idx)]\n",
    "                writer.writerow(row)\n",
    "       \n",
    "url = \"http://localhost:5000/dataset/11c6b383-a914-4bca-a628-1ff1b245cce1/resource/8935a2cf-e587-4299-b5aa-d94cb40029f6/download/excel2.xlsx\"\n",
    "path_to_store_file = 'download.xlsx'\n",
    "\n",
    "def download_file(url, path_to_store_file):\n",
    "    request = requests.get(url, allow_redirects=True)\n",
    "    open(path_to_store_file, 'wb').write(request.content)\n",
    "    return path_to_store_file"
   ]
  },
  {
   "cell_type": "code",
   "execution_count": null,
   "metadata": {},
   "outputs": [],
   "source": [
    "requests.post('http://0.0.0.0:5000/api/action/resource_create',\n",
    "              data={\"package_id\":\"my_dataset\"},\n",
    "              headers={\"X-CKAN-API-Key\": \"21a47217-6d7b-49c5-88f9-72ebd5a4d4bb\"},\n",
    "              files=[('upload', file('/path/to/file/to/upload.csv'))])"
   ]
  },
  {
   "cell_type": "code",
   "execution_count": 6,
   "metadata": {},
   "outputs": [],
   "source": [
    "req = requests.get('http://0.0.0.0:5000/api/3/action/package_list')"
   ]
  },
  {
   "cell_type": "code",
   "execution_count": 7,
   "metadata": {},
   "outputs": [
    {
     "data": {
      "text/plain": [
       "'{\"help\": \"http://localhost:5000/api/3/action/help_show?name=package_list\", \"success\": true, \"result\": [\"aaa\", \"eee\"]}'"
      ]
     },
     "execution_count": 7,
     "metadata": {},
     "output_type": "execute_result"
    }
   ],
   "source": [
    "req.content"
   ]
  },
  {
   "cell_type": "code",
   "execution_count": 4,
   "metadata": {},
   "outputs": [],
   "source": [
    "req = requests.get('http://0.0.0.0:5000/api/3/action/package_show?id=aaa')\n"
   ]
  },
  {
   "cell_type": "code",
   "execution_count": 5,
   "metadata": {},
   "outputs": [
    {
     "data": {
      "text/plain": [
       "'{\"help\": \"http://localhost:5000/api/3/action/help_show?name=package_show\", \"success\": true, \"result\": {\"license_title\": \"Creative Commons Attribution\", \"relationships_as_object\": [], \"num_tags\": 1, \"id\": \"11c6b383-a914-4bca-a628-1ff1b245cce1\", \"metadata_created\": \"2019-12-02T08:33:35.357812\", \"metadata_modified\": \"2019-12-02T08:34:13.029193\", \"title\": \"aaa\", \"state\": \"active\", \"creator_user_id\": \"ef32a4d0-3b22-4ce8-8b3b-9750da94854f\", \"type\": \"dataset\", \"resources\": [{\"mimetype\": \"application/vnd.openxmlformats-officedocument.spreadsheetml.sheet\", \"cache_url\": null, \"hash\": \"\", \"description\": \"aaa\", \"name\": \"aaa\", \"format\": \"XML\", \"url\": \"http://localhost:5000/dataset/11c6b383-a914-4bca-a628-1ff1b245cce1/resource/8935a2cf-e587-4299-b5aa-d94cb40029f6/download/excel2.xlsx\", \"datastore_active\": false, \"cache_last_updated\": null, \"package_id\": \"11c6b383-a914-4bca-a628-1ff1b245cce1\", \"created\": \"2019-12-02T08:34:12.857943\", \"state\": \"active\", \"mimetype_inner\": null, \"last_modified\": \"2019-12-02T08:34:12.828242\", \"position\": 0, \"revision_id\": \"f20ec654-8fbd-45a3-bc3a-48eac4705cfc\", \"url_type\": \"upload\", \"id\": \"8935a2cf-e587-4299-b5aa-d94cb40029f6\", \"resource_type\": null, \"size\": 9890}], \"num_resources\": 1, \"tags\": [{\"vocabulary_id\": null, \"state\": \"active\", \"display_name\": \"aaa\", \"id\": \"44ce03e5-c75e-4f7c-8e6b-db251ce61cdf\", \"name\": \"aaa\"}], \"groups\": [], \"license_id\": \"cc-by\", \"relationships_as_subject\": [], \"name\": \"aaa\", \"isopen\": true, \"notes\": \"aaa\", \"owner_org\": \"47e2fbb1-512a-420d-8843-da3330f3f561\", \"license_url\": \"http://www.opendefinition.org/licenses/cc-by\", \"data_category\": \"px_abundancies\", \"organization\": {\"description\": \"A biotech firm\", \"created\": \"2019-12-02T08:32:14.454485\", \"title\": \"DSM\", \"name\": \"dsm\", \"is_organization\": true, \"state\": \"active\", \"image_url\": \"2019-12-02-083214.435108DSMLOGO420220.jpg\", \"revision_id\": \"528667ed-3ed3-4ad0-a21c-3db31ee6dc0d\", \"type\": \"organization\", \"id\": \"47e2fbb1-512a-420d-8843-da3330f3f561\", \"approval_status\": \"approved\"}, \"revision_id\": \"f20ec654-8fbd-45a3-bc3a-48eac4705cfc\"}}'"
      ]
     },
     "execution_count": 5,
     "metadata": {},
     "output_type": "execute_result"
    }
   ],
   "source": [
    "req.content"
   ]
  },
  {
   "cell_type": "code",
   "execution_count": 37,
   "metadata": {},
   "outputs": [],
   "source": [
    "config = {\"ckan.site_url\": \"http://0.0.0.0:5000/\"}"
   ]
  },
  {
   "cell_type": "code",
   "execution_count": 38,
   "metadata": {},
   "outputs": [
    {
     "data": {
      "text/plain": [
       "'http://0.0.0.0:5000/'"
      ]
     },
     "execution_count": 38,
     "metadata": {},
     "output_type": "execute_result"
    }
   ],
   "source": [
    "config.get('ckan.site_url', None)"
   ]
  },
  {
   "cell_type": "code",
   "execution_count": 46,
   "metadata": {},
   "outputs": [],
   "source": [
    "# Let's post a new resource to an existing package.\n",
    "\n",
    "def create_resource(filepath, api_key, package_id):\n",
    "    site_url = config.get('ckan.site_url', None)\n",
    "    req = requests.post(\n",
    "        '{0}/api/3/action/resource_create'.format(site_url),\n",
    "        data={\"package_id\": package_id},\n",
    "        headers={\"X-CKAN-API-Key\": api_key},\n",
    "        files=[('upload', file(filepath))])\n",
    "#     logger.debug(\"CREATED RESOURCE WITH POST: {0}\".format(req.content))\n",
    "    return filepath, req"
   ]
  },
  {
   "cell_type": "code",
   "execution_count": 47,
   "metadata": {},
   "outputs": [],
   "source": [
    "filepath = u'download.xlsx'\n",
    "api_key = u'd71874a1-9551-4d1b-a868-04e666777cf7'\n",
    "package_id = u'c01e9ad7-190c-4864-8d1a-7db2e322b570'\n",
    "\n",
    "path, req = create_resource(filepath, api_key, package_id)"
   ]
  },
  {
   "cell_type": "code",
   "execution_count": 49,
   "metadata": {},
   "outputs": [],
   "source": [
    "package_id = '11c6b383-a914-4bca-a628-1ff1b245cce1'\n",
    "resource_id = '8935a2cf-e587-4299-b5aa-d94cb40029f6'\n",
    "api_key = 'd71874a1-9551-4d1b-a868-04e666777cf7'"
   ]
  },
  {
   "cell_type": "code",
   "execution_count": null,
   "metadata": {},
   "outputs": [],
   "source": []
  },
  {
   "cell_type": "code",
   "execution_count": 6,
   "metadata": {},
   "outputs": [
    {
     "name": "stdout",
     "output_type": "stream",
     "text": [
      "{\"help\": \"http://localhost:5000/api/3/action/help_show?name=resource_create\", \"success\": true, \"result\": {\"cache_last_updated\": null, \"cache_url\": null, \"mimetype_inner\": null, \"hash\": \"\", \"description\": \"a new file with data?\", \"format\": \"XLSX\", \"url\": \"\", \"created\": \"2019-12-03T10:23:36.045839\", \"state\": \"active\", \"package_id\": \"11c6b383-a914-4bca-a628-1ff1b245cce1\", \"last_modified\": null, \"mimetype\": null, \"url_type\": null, \"position\": 6, \"revision_id\": \"c7ed01a2-d8e8-4790-be48-36ba29e60d05\", \"size\": null, \"datastore_active\": false, \"id\": \"ea2eae69-760f-47a8-a429-4a210ea3939e\", \"resource_type\": null, \"name\": null}}\n"
     ]
    }
   ],
   "source": [
    "# Create an empty_resource\n",
    "data = {\n",
    "    \"package_id\": \"11c6b383-a914-4bca-a628-1ff1b245cce1\",\n",
    "#     \"upload\": \"/Users/aschwinschilperoort/Downloads/through_requests.xlsx\",\n",
    "    \"description\": \"a new file with data?\",\n",
    "    \"format\": \"xlsx\"\n",
    "}\n",
    "\n",
    "headers = {\n",
    "    \"Authorization\": \"d71874a1-9551-4d1b-a868-04e666777cf7\",\n",
    "    \"Content-Type\": \"application/json\"\n",
    "}\n",
    "\n",
    "req = requests.post(\"http://localhost:5000/api/action/resource_create\", headers=headers, json=data)\n",
    "\n",
    "print req.content"
   ]
  },
  {
   "cell_type": "code",
   "execution_count": 11,
   "metadata": {},
   "outputs": [
    {
     "name": "stdout",
     "output_type": "stream",
     "text": [
      "{\"help\": \"http://localhost:5000/api/3/action/help_show?name=resource_create\", \"success\": true, \"result\": {\"cache_last_updated\": null, \"cache_url\": null, \"mimetype_inner\": null, \"hash\": \"\", \"description\": \"\", \"format\": \"XLSX\", \"url\": \"http://localhost:5000/dataset/11c6b383-a914-4bca-a628-1ff1b245cce1/resource/69fb4b71-f07f-43e1-9b22-36dc918bf289/download/through_requests.xlsx\", \"created\": \"2019-12-03T10:41:47.115497\", \"state\": \"active\", \"package_id\": \"11c6b383-a914-4bca-a628-1ff1b245cce1\", \"last_modified\": \"2019-12-03T10:41:47.069980\", \"mimetype\": \"application/vnd.openxmlformats-officedocument.spreadsheetml.sheet\", \"url_type\": \"upload\", \"position\": 9, \"revision_id\": \"91271f3a-0e9f-4e07-84ac-01da0656c301\", \"size\": 9890, \"datastore_active\": false, \"id\": \"69fb4b71-f07f-43e1-9b22-36dc918bf289\", \"resource_type\": null, \"name\": null}}\n"
     ]
    }
   ],
   "source": [
    "package_id = \"11c6b383-a914-4bca-a628-1ff1b245cce1\"\n",
    "filepath = \"/Users/aschwinschilperoort/Downloads/through_requests.xlsx\"\n",
    "api_key = \"d71874a1-9551-4d1b-a868-04e666777cf7\"\n",
    "\n",
    "def create_resource(filepath, package_id, api_key):\n",
    "\n",
    "    # Upload a file to said resource\n",
    "    site_url = \"http://localhost:5000/api/action/resource_create\"\n",
    "    with open(filepath, 'rb') as f:\n",
    "        files = {\"upload\": f}\n",
    "\n",
    "        values = {\n",
    "            \"package_id\": package_id\n",
    "        }\n",
    "\n",
    "        headers = {\n",
    "            \"Authorization\": api_key\n",
    "        }\n",
    "\n",
    "        r = requests.post(site_url, files=files, data=values, headers=headers)\n",
    "\n",
    "        print r.content\n",
    "        \n",
    "create_resource(filepath, package_id, api_key)"
   ]
  },
  {
   "cell_type": "code",
   "execution_count": 37,
   "metadata": {},
   "outputs": [],
   "source": [
    "package_id = \"c7eda4db-db38-47ce-ae8c-0ff19bc9aa04\"\n",
    "filepath = \"/Users/aschwinschilperoort/Downloads/through_requests.xlsx\"\n",
    "api_key = \"d71874a1-9551-4d1b-a868-04e666777cf7\"\n",
    "\n",
    "SITE_URL = \"http://localhost:5000\"\n",
    "\n",
    "def create_resource(filepath, package_id, api_key):\n",
    "    logger.debug(\"CREATING RESOURCE THROUGH THE API.\")\n",
    "    logger.debug(\"FILEPATH: {0}\".format(filepath))\n",
    "    logger.debug(\"PACKAGE_ID: {0}\".format(package_id))\n",
    "    logger.debug(\"API_KEY: {0}\".format(api_key))\n",
    "    cwd = os.getcwd()\n",
    "    ls = os.listdir(cwd)\n",
    "    logger.debug(\"CWD: {0}\".format(cwd))\n",
    "    logger.debug(\"LISTDIR: {0}\".format(ls))\n",
    "    with open(filepath, 'rb') as f:\n",
    "        logger.debug(\"OPENING FILE...\")\n",
    "        files = {\"upload\": f}\n",
    "        values = {\"package_id\": package_id}\n",
    "        headers = {\"Authorization\": api_key}\n",
    "        api_url = \"{0}/api/action/resource_create\".format(SITE_URL)\n",
    "        logger.debug(\"POST VARIABLES SET.\")\n",
    "        r = requests.post(api_url, files=files, data=values, headers=headers)\n",
    "        logger.debug(\"Request response: {0}\".format(r.content))\n",
    "\n",
    "    return r\n",
    "        \n",
    "req = create_resource(filepath, package_id, api_key)"
   ]
  },
  {
   "cell_type": "code",
   "execution_count": 38,
   "metadata": {},
   "outputs": [
    {
     "data": {
      "text/plain": [
       "'{\"help\": \"http://localhost:5000/api/3/action/help_show?name=resource_create\", \"success\": true, \"result\": {\"cache_last_updated\": null, \"cache_url\": null, \"mimetype_inner\": null, \"hash\": \"\", \"description\": \"\", \"format\": \"XLSX\", \"url\": \"http://localhost:5000/dataset/c7eda4db-db38-47ce-ae8c-0ff19bc9aa04/resource/f5972d0e-0dcb-4757-a535-d34cee305db4/download/through_requests.xlsx\", \"created\": \"2019-12-03T14:31:44.210774\", \"state\": \"active\", \"package_id\": \"c7eda4db-db38-47ce-ae8c-0ff19bc9aa04\", \"last_modified\": \"2019-12-03T14:31:44.177842\", \"mimetype\": \"application/vnd.openxmlformats-officedocument.spreadsheetml.sheet\", \"url_type\": \"upload\", \"position\": 0, \"revision_id\": \"0e226876-80b8-4f09-954c-2d0a9cac8835\", \"size\": 9890, \"datastore_active\": false, \"id\": \"f5972d0e-0dcb-4757-a535-d34cee305db4\", \"resource_type\": null, \"name\": null}}'"
      ]
     },
     "execution_count": 38,
     "metadata": {},
     "output_type": "execute_result"
    }
   ],
   "source": [
    "req.content"
   ]
  },
  {
   "cell_type": "code",
   "execution_count": 22,
   "metadata": {},
   "outputs": [],
   "source": [
    "import os\n",
    "cwd = os.getcwd()\n",
    "os.listdir(cwd)"
   ]
  },
  {
   "cell_type": "code",
   "execution_count": 26,
   "metadata": {},
   "outputs": [
    {
     "data": {
      "text/plain": [
       "['unpack_excel.ipynb', 'download.xlsx', '.ipynb_checkpoints']"
      ]
     },
     "execution_count": 26,
     "metadata": {},
     "output_type": "execute_result"
    }
   ],
   "source": []
  },
  {
   "cell_type": "code",
   "execution_count": 42,
   "metadata": {},
   "outputs": [
    {
     "name": "stdout",
     "output_type": "stream",
     "text": [
      "('The result is', 42)\n"
     ]
    }
   ],
   "source": [
    "from random import random\n",
    "import threading\n",
    "import time\n",
    "\n",
    "result = None\n",
    "\n",
    "def background_calculation():\n",
    "    # here goes some long calculation\n",
    "    time.sleep(random() * 5)\n",
    "\n",
    "    # when the calculation is done, the result is stored in a global variable\n",
    "    global result\n",
    "    result = 42\n",
    "\n",
    "def main():\n",
    "    thread = threading.Thread(target=background_calculation)\n",
    "    thread.start()\n",
    "\n",
    "    # wait here for the result to be available before continuing\n",
    "    thread.join()\n",
    "\n",
    "    print('The result is', result)\n",
    "\n",
    "if __name__ == '__main__':\n",
    "    main()"
   ]
  },
  {
   "cell_type": "code",
   "execution_count": null,
   "metadata": {},
   "outputs": [],
   "source": []
  }
 ],
 "metadata": {
  "kernelspec": {
   "display_name": "Python 2",
   "language": "python",
   "name": "python2"
  },
  "language_info": {
   "codemirror_mode": {
    "name": "ipython",
    "version": 2
   },
   "file_extension": ".py",
   "mimetype": "text/x-python",
   "name": "python",
   "nbconvert_exporter": "python",
   "pygments_lexer": "ipython2",
   "version": "2.7.16"
  }
 },
 "nbformat": 4,
 "nbformat_minor": 2
}
